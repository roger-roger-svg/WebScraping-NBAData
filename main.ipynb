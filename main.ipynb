{
 "cells": [
  {
   "cell_type": "code",
   "execution_count": 170,
   "metadata": {},
   "outputs": [],
   "source": [
    "import pandas as pd\n",
    "import requests\n",
    "pd.set_option('display.max_columns', None) #Assim nos podemos ver todas as colunas em uma wid DataFrame\n",
    "import time\n",
    "import numpy as np"
   ]
  },
  {
   "cell_type": "code",
   "execution_count": 171,
   "metadata": {},
   "outputs": [],
   "source": [
    "teste_url = 'https://stats.nba.com/stats/leagueLeaders?LeagueID=00&PerMode=Totals&Scope=S&Season=2023-24&SeasonType=Regular%20Season&StatCategory=PTS'"
   ]
  },
  {
   "cell_type": "code",
   "execution_count": 192,
   "metadata": {},
   "outputs": [],
   "source": [
    "r = requests.get(url=teste_url).json()"
   ]
  },
  {
   "cell_type": "code",
   "execution_count": 173,
   "metadata": {},
   "outputs": [],
   "source": [
    "table_headers = r  [ 'resultSet']['headers']"
   ]
  },
  {
   "cell_type": "code",
   "execution_count": null,
   "metadata": {},
   "outputs": [],
   "source": [
    "r ['resultSet']['rowSet']#Rank do jogador (por pts total)"
   ]
  },
  {
   "cell_type": "code",
   "execution_count": null,
   "metadata": {},
   "outputs": [],
   "source": [
    "pd.DataFrame(r['resultSet']['rowSet'], columns= table_headers)"
   ]
  },
  {
   "cell_type": "code",
   "execution_count": null,
   "metadata": {},
   "outputs": [],
   "source": [
    "temp_df1 = pd.DataFrame(r['resultSet']['rowSet'], columns=table_headers)\n",
    "temp_df2 = pd.DataFrame({'Year':['2023-24'for i in range(len(temp_df1))],\n",
    "                         'Season_type':['Regular%20Season'for i in range(len(temp_df1))] })\n",
    "temp_df3 = pd.concat([temp_df2, temp_df1], axis=1)\n",
    "temp_df3"
   ]
  },
  {
   "cell_type": "code",
   "execution_count": null,
   "metadata": {},
   "outputs": [],
   "source": [
    "print(temp_df1)"
   ]
  },
  {
   "cell_type": "code",
   "execution_count": null,
   "metadata": {},
   "outputs": [],
   "source": [
    "print(r)\n"
   ]
  },
  {
   "cell_type": "code",
   "execution_count": null,
   "metadata": {},
   "outputs": [],
   "source": [
    "if 'rowSet' in r['resultSet'] and r['resultSet']['rowSet']:\n",
    "    temp_df1 = pd.DataFrame(r['resultSet']['rowSet'], columns=table_headers)\n",
    "    temp_df2 = pd.DataFrame({'Year': [y for i in range(len(temp_df1))],\n",
    "                             'Season_type': [s for i in range(len(temp_df1))]})\n",
    "    temp_df3 = pd.concat([temp_df2, temp_df1], axis=1)\n",
    "    df = pd.concat([df, temp_df3], axis=0)\n",
    "    print(f'Finished scraping data for the {y} {s}.')\n",
    "else:\n",
    "    print(f'No data found for the {y} {s}.')\n"
   ]
  },
  {
   "cell_type": "code",
   "execution_count": 177,
   "metadata": {},
   "outputs": [],
   "source": [
    "del temp_df1,temp_df2, temp_df3"
   ]
  },
  {
   "cell_type": "code",
   "execution_count": 198,
   "metadata": {},
   "outputs": [],
   "source": [
    "df_cols = ['Year','Season_Type'] + table_headers"
   ]
  },
  {
   "cell_type": "code",
   "execution_count": null,
   "metadata": {},
   "outputs": [],
   "source": [
    "df_cols"
   ]
  },
  {
   "cell_type": "code",
   "execution_count": null,
   "metadata": {},
   "outputs": [],
   "source": [
    "pd.DataFrame(columns=df_cols)"
   ]
  },
  {
   "cell_type": "code",
   "execution_count": 201,
   "metadata": {},
   "outputs": [],
   "source": [
    "headers = {\n",
    "        'Accept': '*/*',\n",
    "    \n",
    "    'Accept-Encoding':\n",
    "    'gzip, deflate, br' ,\n",
    "    'Accept-Language':\n",
    "    'pt-BR,pt;q=0.9',\n",
    "    'Connection':\n",
    "    'keep-alive',\n",
    "    'Host':\n",
    "    'stats.nba.com',\n",
    "    'Origin':\n",
    "    'https://www.nba.com',\n",
    "    'Referer':\n",
    "    'https://www.nba.com/',\n",
    "    'Sec-Ch-Ua':\n",
    "    '\"Brave\";v=\"117\", \"Not;A=Brand\";v=\"8\", \"Chromium\";v=\"117\"',\n",
    "    'Sec-Ch-Ua-Mobile':\n",
    "    '?0'\n",
    "    'Sec-Ch-Ua-Platform:'\n",
    "    \"macOS\",\n",
    "    'Sec-Fetch-Dest':\n",
    "    'empty',\n",
    "    'Sec-Fetch-Mode':\n",
    "    'cors',\n",
    "    'Sec-Fetch-Site':\n",
    "    'same-site', \n",
    "    'Sec-Gpc':\n",
    "    '1',\n",
    "    'User-Agent':\n",
    "    'Mozilla/5.0 (Macintosh; Intel Mac OS X 10_15_7) AppleWebKit/537.36 (KHTML, like Gecko) Chrome/117.0.0.0 Safari/537.36'\n",
    "}"
   ]
  },
  {
   "cell_type": "code",
   "execution_count": null,
   "metadata": {},
   "outputs": [],
   "source": [
    "df = pd.DataFrame(columns=df_cols)\n",
    "season_types = ['Regular%20Season','Playoffs']\n",
    "years = ['2019-20','2020-21']\n",
    "\n",
    "begin_loop = time.time()\n",
    "for y in years:\n",
    "    for s in season_types:\n",
    "        api_url = 'https://stats.nba.com/stats/leagueLeaders?LeagueID=00&PerMode=Totals&Scope=S&Season='+y+'&SeasonType= '+s+' &StatCategory=PTS'\n",
    "        r = requests.get(url=api_url).json()\n",
    "        \n",
    "        temp_df1 = pd.DataFrame(r['resultSet']['rowSet'], columns=table_headers)\n",
    "        temp_df2 = pd.DataFrame({'Year':[y for i in range(len(temp_df1))],\n",
    "                                'Season_type':['s'for i in range(len(temp_df1))] })\n",
    "        temp_df3 = pd.concat([temp_df2, temp_df1], axis=1)\n",
    "        df = pd.concat([df, temp_df3], axis=0)\n",
    "        print(f'Finished scraping data for the {y} {s}.')\n",
    "        lag = np.random.randint(low=5, high=40)\n",
    "        print(f'..waiting{round(lag,1)}seconds')\n",
    "        time.sleep(lag)\n",
    "        \n",
    "print(f'Process completed Total run time : {round((time.time()-begin_loop)/60,2)}minutes')\n",
    "df.to_excel('nba_player_data.xlsx', index=False)\n",
    "\n",
    "        "
   ]
  },
  {
   "cell_type": "code",
   "execution_count": null,
   "metadata": {},
   "outputs": [],
   "source": [
    "df"
   ]
  }
 ],
 "metadata": {
  "kernelspec": {
   "display_name": "Python 3",
   "language": "python",
   "name": "python3"
  },
  "language_info": {
   "codemirror_mode": {
    "name": "ipython",
    "version": 3
   },
   "file_extension": ".py",
   "mimetype": "text/x-python",
   "name": "python",
   "nbconvert_exporter": "python",
   "pygments_lexer": "ipython3",
   "version": "3.12.0"
  }
 },
 "nbformat": 4,
 "nbformat_minor": 2
}
